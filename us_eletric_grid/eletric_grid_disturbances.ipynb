{
 "cells": [
  {
   "cell_type": "code",
   "execution_count": 1,
   "id": "4dec93de-cb67-4132-ae16-26e4faf5abbf",
   "metadata": {
    "tags": []
   },
   "outputs": [],
   "source": [
    "import pandas as pd\n",
    "import numpy as np\n",
    "import matplotlib.pyplot as plt\n",
    "import seaborn as sns"
   ]
  },
  {
   "cell_type": "code",
   "execution_count": 3,
   "id": "b06bf341-1320-4ad6-a877-40e9a2d6717e",
   "metadata": {
    "tags": []
   },
   "outputs": [],
   "source": [
    "df = pd.read_excel(r\"C:\\Users\\Helder\\OneDrive\\Projects\\datasets\\US_Electric_Grid _Outages\\Electric_Disturbancea_Events\\DOE_Electric_Disturbance_Events.xlsx\")"
   ]
  },
  {
   "cell_type": "code",
   "execution_count": 4,
   "id": "d6f076d0-efa5-415c-aa2c-19f3c4fe2d82",
   "metadata": {
    "tags": []
   },
   "outputs": [
    {
     "data": {
      "text/html": [
       "<div>\n",
       "<style scoped>\n",
       "    .dataframe tbody tr th:only-of-type {\n",
       "        vertical-align: middle;\n",
       "    }\n",
       "\n",
       "    .dataframe tbody tr th {\n",
       "        vertical-align: top;\n",
       "    }\n",
       "\n",
       "    .dataframe thead th {\n",
       "        text-align: right;\n",
       "    }\n",
       "</style>\n",
       "<table border=\"1\" class=\"dataframe\">\n",
       "  <thead>\n",
       "    <tr style=\"text-align: right;\">\n",
       "      <th></th>\n",
       "      <th>Table B.2.</th>\n",
       "      <th>Major Disturbances and Unusual Occurrences, 2002</th>\n",
       "      <th>Unnamed: 2</th>\n",
       "      <th>Unnamed: 3</th>\n",
       "      <th>Unnamed: 4</th>\n",
       "      <th>Unnamed: 5</th>\n",
       "      <th>Unnamed: 6</th>\n",
       "      <th>Unnamed: 7</th>\n",
       "    </tr>\n",
       "  </thead>\n",
       "  <tbody>\n",
       "    <tr>\n",
       "      <th>0</th>\n",
       "      <td>NaN</td>\n",
       "      <td>NaN</td>\n",
       "      <td>NaN</td>\n",
       "      <td>NaN</td>\n",
       "      <td>NaN</td>\n",
       "      <td>NaN</td>\n",
       "      <td>NaN</td>\n",
       "      <td>NaN</td>\n",
       "    </tr>\n",
       "    <tr>\n",
       "      <th>1</th>\n",
       "      <td>Date</td>\n",
       "      <td>NERC Region</td>\n",
       "      <td>Time</td>\n",
       "      <td>Area</td>\n",
       "      <td>Type of Disturbance</td>\n",
       "      <td>Loss (megawatts)</td>\n",
       "      <td>Number of Customers Affected</td>\n",
       "      <td>Restoration Time</td>\n",
       "    </tr>\n",
       "    <tr>\n",
       "      <th>2</th>\n",
       "      <td>January</td>\n",
       "      <td>NaN</td>\n",
       "      <td>NaN</td>\n",
       "      <td>NaN</td>\n",
       "      <td>NaN</td>\n",
       "      <td>NaN</td>\n",
       "      <td>NaN</td>\n",
       "      <td>NaN</td>\n",
       "    </tr>\n",
       "    <tr>\n",
       "      <th>3</th>\n",
       "      <td>2002-01-30 00:00:00</td>\n",
       "      <td>SPP</td>\n",
       "      <td>06:00:00</td>\n",
       "      <td>Oklahoma</td>\n",
       "      <td>Ice Storm</td>\n",
       "      <td>500</td>\n",
       "      <td>1881134</td>\n",
       "      <td>2002-02-07 12:00:00</td>\n",
       "    </tr>\n",
       "    <tr>\n",
       "      <th>4</th>\n",
       "      <td>NaN</td>\n",
       "      <td>NaN</td>\n",
       "      <td>NaN</td>\n",
       "      <td>NaN</td>\n",
       "      <td>NaN</td>\n",
       "      <td>NaN</td>\n",
       "      <td>NaN</td>\n",
       "      <td>NaN</td>\n",
       "    </tr>\n",
       "  </tbody>\n",
       "</table>\n",
       "</div>"
      ],
      "text/plain": [
       "            Table B.2. Major Disturbances and Unusual Occurrences, 2002  \\\n",
       "0                  NaN                                              NaN   \n",
       "1                 Date                                      NERC Region   \n",
       "2              January                                              NaN   \n",
       "3  2002-01-30 00:00:00                                              SPP   \n",
       "4                  NaN                                              NaN   \n",
       "\n",
       "  Unnamed: 2 Unnamed: 3           Unnamed: 4        Unnamed: 5  \\\n",
       "0        NaN        NaN                  NaN               NaN   \n",
       "1       Time       Area  Type of Disturbance  Loss (megawatts)   \n",
       "2        NaN        NaN                  NaN               NaN   \n",
       "3   06:00:00   Oklahoma            Ice Storm               500   \n",
       "4        NaN        NaN                  NaN               NaN   \n",
       "\n",
       "                     Unnamed: 6           Unnamed: 7  \n",
       "0                           NaN                  NaN  \n",
       "1  Number of Customers Affected     Restoration Time  \n",
       "2                           NaN                  NaN  \n",
       "3                       1881134  2002-02-07 12:00:00  \n",
       "4                           NaN                  NaN  "
      ]
     },
     "execution_count": 4,
     "metadata": {},
     "output_type": "execute_result"
    }
   ],
   "source": [
    "df.head()"
   ]
  },
  {
   "cell_type": "code",
   "execution_count": 7,
   "id": "e959811c-571e-4405-9284-2f706ffbc95b",
   "metadata": {
    "tags": []
   },
   "outputs": [
    {
     "data": {
      "text/html": [
       "<div>\n",
       "<style scoped>\n",
       "    .dataframe tbody tr th:only-of-type {\n",
       "        vertical-align: middle;\n",
       "    }\n",
       "\n",
       "    .dataframe tbody tr th {\n",
       "        vertical-align: top;\n",
       "    }\n",
       "\n",
       "    .dataframe thead th {\n",
       "        text-align: right;\n",
       "    }\n",
       "</style>\n",
       "<table border=\"1\" class=\"dataframe\">\n",
       "  <thead>\n",
       "    <tr style=\"text-align: right;\">\n",
       "      <th></th>\n",
       "      <th>Table B.2.</th>\n",
       "      <th>Major Disturbances and Unusual Occurrences, 2002</th>\n",
       "      <th>Unnamed: 2</th>\n",
       "      <th>Unnamed: 3</th>\n",
       "      <th>Unnamed: 4</th>\n",
       "      <th>Unnamed: 5</th>\n",
       "      <th>Unnamed: 6</th>\n",
       "      <th>Unnamed: 7</th>\n",
       "    </tr>\n",
       "  </thead>\n",
       "  <tbody>\n",
       "    <tr>\n",
       "      <th>36</th>\n",
       "      <td>2002-12-25 00:00:00</td>\n",
       "      <td>MAAC</td>\n",
       "      <td>17:00:00</td>\n",
       "      <td>Eastern Pennsylvania</td>\n",
       "      <td>Winter Storm</td>\n",
       "      <td>250</td>\n",
       "      <td>106000</td>\n",
       "      <td>2002-12-26 05:00:00</td>\n",
       "    </tr>\n",
       "    <tr>\n",
       "      <th>37</th>\n",
       "      <td>2002-12-25 00:00:00</td>\n",
       "      <td>MAAC</td>\n",
       "      <td>10:00:00</td>\n",
       "      <td>Reading, York, Hanover, Hamburg Pennsylvania</td>\n",
       "      <td>Winter Storm</td>\n",
       "      <td>NaN</td>\n",
       "      <td>95630</td>\n",
       "      <td>2002-12-27 08:30:00</td>\n",
       "    </tr>\n",
       "    <tr>\n",
       "      <th>38</th>\n",
       "      <td>NaN</td>\n",
       "      <td>NaN</td>\n",
       "      <td>NaN</td>\n",
       "      <td>NaN</td>\n",
       "      <td>NaN</td>\n",
       "      <td>NaN</td>\n",
       "      <td>NaN</td>\n",
       "      <td>NaN</td>\n",
       "    </tr>\n",
       "    <tr>\n",
       "      <th>39</th>\n",
       "      <td>Note: North American Electric Reliability Coun...</td>\n",
       "      <td>NaN</td>\n",
       "      <td>NaN</td>\n",
       "      <td>NaN</td>\n",
       "      <td>NaN</td>\n",
       "      <td>NaN</td>\n",
       "      <td>NaN</td>\n",
       "      <td>NaN</td>\n",
       "    </tr>\n",
       "    <tr>\n",
       "      <th>40</th>\n",
       "      <td>Source:  Form EIA-417, \"Electric Emergency Inc...</td>\n",
       "      <td>NaN</td>\n",
       "      <td>NaN</td>\n",
       "      <td>NaN</td>\n",
       "      <td>NaN</td>\n",
       "      <td>NaN</td>\n",
       "      <td>NaN</td>\n",
       "      <td>NaN</td>\n",
       "    </tr>\n",
       "  </tbody>\n",
       "</table>\n",
       "</div>"
      ],
      "text/plain": [
       "                                           Table B.2.  \\\n",
       "36                                2002-12-25 00:00:00   \n",
       "37                                2002-12-25 00:00:00   \n",
       "38                                                NaN   \n",
       "39  Note: North American Electric Reliability Coun...   \n",
       "40  Source:  Form EIA-417, \"Electric Emergency Inc...   \n",
       "\n",
       "   Major Disturbances and Unusual Occurrences, 2002 Unnamed: 2  \\\n",
       "36                                             MAAC   17:00:00   \n",
       "37                                             MAAC   10:00:00   \n",
       "38                                              NaN        NaN   \n",
       "39                                              NaN        NaN   \n",
       "40                                              NaN        NaN   \n",
       "\n",
       "                                      Unnamed: 3    Unnamed: 4 Unnamed: 5  \\\n",
       "36                          Eastern Pennsylvania  Winter Storm        250   \n",
       "37  Reading, York, Hanover, Hamburg Pennsylvania  Winter Storm        NaN   \n",
       "38                                           NaN           NaN        NaN   \n",
       "39                                           NaN           NaN        NaN   \n",
       "40                                           NaN           NaN        NaN   \n",
       "\n",
       "   Unnamed: 6           Unnamed: 7  \n",
       "36     106000  2002-12-26 05:00:00  \n",
       "37      95630  2002-12-27 08:30:00  \n",
       "38        NaN                  NaN  \n",
       "39        NaN                  NaN  \n",
       "40        NaN                  NaN  "
      ]
     },
     "execution_count": 7,
     "metadata": {},
     "output_type": "execute_result"
    }
   ],
   "source": [
    "df.tail()"
   ]
  },
  {
   "cell_type": "code",
   "execution_count": 5,
   "id": "0f56f68d-c093-418b-9f45-4b3ea691ffa9",
   "metadata": {
    "tags": []
   },
   "outputs": [
    {
     "data": {
      "text/plain": [
       "(41, 8)"
      ]
     },
     "execution_count": 5,
     "metadata": {},
     "output_type": "execute_result"
    }
   ],
   "source": [
    "df.shape"
   ]
  },
  {
   "cell_type": "code",
   "execution_count": 8,
   "id": "ae7fa13f-30d5-4365-b1d8-396dbceba518",
   "metadata": {
    "tags": []
   },
   "outputs": [
    {
     "data": {
      "text/plain": [
       "Table B.2.                                          object\n",
       "Major Disturbances and Unusual Occurrences, 2002    object\n",
       "Unnamed: 2                                          object\n",
       "Unnamed: 3                                          object\n",
       "Unnamed: 4                                          object\n",
       "Unnamed: 5                                          object\n",
       "Unnamed: 6                                          object\n",
       "Unnamed: 7                                          object\n",
       "dtype: object"
      ]
     },
     "execution_count": 8,
     "metadata": {},
     "output_type": "execute_result"
    }
   ],
   "source": [
    "df.dtypes"
   ]
  },
  {
   "cell_type": "code",
   "execution_count": 9,
   "id": "cb171ad8-8138-44a6-b883-c3c53e66dea6",
   "metadata": {
    "tags": []
   },
   "outputs": [
    {
     "name": "stdout",
     "output_type": "stream",
     "text": [
      "<class 'pandas.core.frame.DataFrame'>\n",
      "RangeIndex: 41 entries, 0 to 40\n",
      "Data columns (total 8 columns):\n",
      " #   Column                                            Non-Null Count  Dtype \n",
      "---  ------                                            --------------  ----- \n",
      " 0   Table B.2.                                        35 non-null     object\n",
      " 1   Major Disturbances and Unusual Occurrences, 2002  24 non-null     object\n",
      " 2   Unnamed: 2                                        24 non-null     object\n",
      " 3   Unnamed: 3                                        26 non-null     object\n",
      " 4   Unnamed: 4                                        25 non-null     object\n",
      " 5   Unnamed: 5                                        20 non-null     object\n",
      " 6   Unnamed: 6                                        24 non-null     object\n",
      " 7   Unnamed: 7                                        23 non-null     object\n",
      "dtypes: object(8)\n",
      "memory usage: 2.7+ KB\n"
     ]
    }
   ],
   "source": [
    "df.info()"
   ]
  },
  {
   "cell_type": "code",
   "execution_count": null,
   "id": "6add8304-926c-4a4a-bd44-da088acfbddb",
   "metadata": {},
   "outputs": [],
   "source": []
  }
 ],
 "metadata": {
  "kernelspec": {
   "display_name": "Python 3 (ipykernel)",
   "language": "python",
   "name": "python3"
  },
  "language_info": {
   "codemirror_mode": {
    "name": "ipython",
    "version": 3
   },
   "file_extension": ".py",
   "mimetype": "text/x-python",
   "name": "python",
   "nbconvert_exporter": "python",
   "pygments_lexer": "ipython3",
   "version": "3.11.5"
  }
 },
 "nbformat": 4,
 "nbformat_minor": 5
}
